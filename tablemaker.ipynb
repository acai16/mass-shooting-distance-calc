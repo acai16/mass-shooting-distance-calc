{
 "cells": [
  {
   "cell_type": "code",
   "execution_count": 1,
   "metadata": {},
   "outputs": [
    {
     "name": "stdout",
     "output_type": "stream",
     "text": [
      "                       date  killed  wounded        city state  \\\n",
      "0 2023-07-24 00:00:00+00:00       3        1       Tulsa    OK   \n",
      "1 2023-07-23 00:00:00+00:00       1        3      Dallas    TX   \n",
      "2 2023-07-23 00:00:00+00:00       0        5       Tampa    FL   \n",
      "3 2023-07-23 00:00:00+00:00       0        4  Birmingham    AL   \n",
      "4 2023-07-23 00:00:00+00:00       1        4     Houston    TX   \n",
      "\n",
      "                                               names  \\\n",
      "0  [DOMESTIC + JUVENILE VICTIMS (gunman fatally s...   \n",
      "1                                   [Gunman unknown]   \n",
      "2                                   [Gunman unknown]   \n",
      "3                                   [Gunman unknown]   \n",
      "4                                   [Gunman unknown]   \n",
      "\n",
      "                                             sources  \n",
      "0  [https://www.kjrh.com/news/local-news/police-i...  \n",
      "1  [https://www.wfaa.com/article/news/local/one-d...  \n",
      "2  [https://www.wtsp.com/article/news/crime/5-peo...  \n",
      "3  [https://www.wvtm13.com/article/birmingham-pol...  \n",
      "4  [https://www.click2houston.com/news/local/2023...  \n"
     ]
    }
   ],
   "source": [
    "\n",
    "import requests\n",
    "from bs4 import BeautifulSoup\n",
    "import pandas as pd\n",
    "\n",
    "df = pd.read_json('https://mass-shooting-tracker-data.s3.us-east-2.amazonaws.com/2023-data.json')\n",
    "\n",
    "print(df.head())\n"
   ]
  }
 ],
 "metadata": {
  "kernelspec": {
   "display_name": "Python 3",
   "language": "python",
   "name": "python3"
  },
  "language_info": {
   "codemirror_mode": {
    "name": "ipython",
    "version": 3
   },
   "file_extension": ".py",
   "mimetype": "text/x-python",
   "name": "python",
   "nbconvert_exporter": "python",
   "pygments_lexer": "ipython3",
   "version": "3.11.3"
  },
  "orig_nbformat": 4
 },
 "nbformat": 4,
 "nbformat_minor": 2
}
